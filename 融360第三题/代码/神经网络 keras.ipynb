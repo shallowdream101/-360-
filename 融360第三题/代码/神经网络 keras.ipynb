{
 "cells": [
  {
   "cell_type": "code",
   "execution_count": 1,
   "metadata": {},
   "outputs": [
    {
     "name": "stderr",
     "output_type": "stream",
     "text": [
      "/usr/local/anaconda3/lib/python3.6/site-packages/h5py/__init__.py:36: FutureWarning: Conversion of the second argument of issubdtype from `float` to `np.floating` is deprecated. In future, it will be treated as `np.float64 == np.dtype(float).type`.\n",
      "  from ._conv import register_converters as _register_converters\n",
      "Using TensorFlow backend.\n"
     ]
    }
   ],
   "source": [
    "from __future__ import print_function\n",
    "# 导入numpy库， numpy是一个常用的科学计算库，优化矩阵的运算\n",
    "import numpy as np\n",
    "import pandas as pd\n",
    "import keras\n",
    "# 导入顺序模型\n",
    "from keras.models import Sequential\n",
    "# 导入全连接层Dense， 激活层Activation 以及 Dropout层\n",
    "from keras.layers.core import Dense, Dropout, Activation\n",
    "# 导入优化器RMSProp\n",
    "from keras.optimizers import RMSprop\n",
    "# 导入numpy工具，主要是用to_categorical来转换类别向量\n",
    "from keras.utils import np_utils\n",
    "from scipy import sparse\n",
    "import tensorflow as tf"
   ]
  },
  {
   "cell_type": "code",
   "execution_count": 2,
   "metadata": {},
   "outputs": [],
   "source": [
    "train_x=sparse.load_npz('train_x_sparse.npz')\n",
    "train_y=pd.read_csv(\"train_y.csv\",header=None)\n",
    "train_y=train_y[1]\n",
    "\n",
    "column=pd.read_csv('./shuchu/index.csv')\n",
    "index=list(column[\"0\"])\n",
    "index.remove('id')\n",
    "index.remove('label')\n",
    "\n",
    "train_x=pd.DataFrame(train_x.toarray(),columns=index)\n",
    "\n",
    "test_x=sparse.load_npz('test_x_sparse.npz')\n",
    "test_y=pd.read_csv(\"test_y.csv\",header=None)\n",
    "test_y=test_y[1]\n",
    "\n",
    "test_x=pd.DataFrame(test_x.toarray(),columns=index)"
   ]
  },
  {
   "cell_type": "code",
   "execution_count": 3,
   "metadata": {},
   "outputs": [],
   "source": [
    "mean=train_x.mean(skipna=True,axis=0)\n",
    "std=train_x.std(skipna=True,axis=0)\n",
    "\n",
    "train_x=(train_x-mean)/std\n",
    "test_x=(test_x-mean)/std"
   ]
  },
  {
   "cell_type": "code",
   "execution_count": 4,
   "metadata": {},
   "outputs": [],
   "source": [
    "train_x.fillna(-3,inplace=True)\n",
    "test_x.fillna(-3,inplace=True)\n",
    "\n",
    "#train_x.drop('tag',axis=1,inplace=True)\n",
    "#test_x.drop('tag',axis=1,inplace=True)"
   ]
  },
  {
   "cell_type": "code",
   "execution_count": 5,
   "metadata": {},
   "outputs": [
    {
     "data": {
      "text/html": [
       "<div>\n",
       "<style scoped>\n",
       "    .dataframe tbody tr th:only-of-type {\n",
       "        vertical-align: middle;\n",
       "    }\n",
       "\n",
       "    .dataframe tbody tr th {\n",
       "        vertical-align: top;\n",
       "    }\n",
       "\n",
       "    .dataframe thead th {\n",
       "        text-align: right;\n",
       "    }\n",
       "</style>\n",
       "<table border=\"1\" class=\"dataframe\">\n",
       "  <thead>\n",
       "    <tr style=\"text-align: right;\">\n",
       "      <th></th>\n",
       "      <th>loan_dt</th>\n",
       "      <th>tag</th>\n",
       "      <th>f135</th>\n",
       "      <th>f60</th>\n",
       "      <th>f36</th>\n",
       "      <th>f164</th>\n",
       "      <th>f8</th>\n",
       "      <th>f2</th>\n",
       "      <th>f119</th>\n",
       "      <th>f105</th>\n",
       "      <th>...</th>\n",
       "      <th>f6699</th>\n",
       "      <th>f6685</th>\n",
       "      <th>f6688</th>\n",
       "      <th>f6753</th>\n",
       "      <th>f6741</th>\n",
       "      <th>year</th>\n",
       "      <th>mon</th>\n",
       "      <th>mday</th>\n",
       "      <th>wday</th>\n",
       "      <th>queshi</th>\n",
       "    </tr>\n",
       "  </thead>\n",
       "  <tbody>\n",
       "    <tr>\n",
       "      <th>0</th>\n",
       "      <td>0.784673</td>\n",
       "      <td>-0.668292</td>\n",
       "      <td>0.055600</td>\n",
       "      <td>-0.082115</td>\n",
       "      <td>0.408484</td>\n",
       "      <td>-0.010295</td>\n",
       "      <td>-0.011229</td>\n",
       "      <td>-0.005350</td>\n",
       "      <td>-0.011457</td>\n",
       "      <td>-0.009340</td>\n",
       "      <td>...</td>\n",
       "      <td>-0.594802</td>\n",
       "      <td>-0.705275</td>\n",
       "      <td>-0.254002</td>\n",
       "      <td>-1.218967</td>\n",
       "      <td>-1.138303</td>\n",
       "      <td>0.722689</td>\n",
       "      <td>-0.323464</td>\n",
       "      <td>-1.290513</td>\n",
       "      <td>0.586045</td>\n",
       "      <td>-1.189159</td>\n",
       "    </tr>\n",
       "    <tr>\n",
       "      <th>1</th>\n",
       "      <td>0.861303</td>\n",
       "      <td>-0.668292</td>\n",
       "      <td>-0.711186</td>\n",
       "      <td>0.376802</td>\n",
       "      <td>-3.000000</td>\n",
       "      <td>-3.000000</td>\n",
       "      <td>-3.000000</td>\n",
       "      <td>-3.000000</td>\n",
       "      <td>-3.000000</td>\n",
       "      <td>-3.000000</td>\n",
       "      <td>...</td>\n",
       "      <td>-3.000000</td>\n",
       "      <td>-3.000000</td>\n",
       "      <td>-3.000000</td>\n",
       "      <td>-3.000000</td>\n",
       "      <td>-3.000000</td>\n",
       "      <td>0.722689</td>\n",
       "      <td>-0.323464</td>\n",
       "      <td>-0.189227</td>\n",
       "      <td>1.633715</td>\n",
       "      <td>1.288711</td>\n",
       "    </tr>\n",
       "    <tr>\n",
       "      <th>2</th>\n",
       "      <td>0.818730</td>\n",
       "      <td>-0.668292</td>\n",
       "      <td>-0.729505</td>\n",
       "      <td>-0.082115</td>\n",
       "      <td>0.409014</td>\n",
       "      <td>-0.016913</td>\n",
       "      <td>-0.012936</td>\n",
       "      <td>0.001919</td>\n",
       "      <td>0.007911</td>\n",
       "      <td>-0.008932</td>\n",
       "      <td>...</td>\n",
       "      <td>-3.000000</td>\n",
       "      <td>-3.000000</td>\n",
       "      <td>-3.000000</td>\n",
       "      <td>-3.000000</td>\n",
       "      <td>-3.000000</td>\n",
       "      <td>0.722689</td>\n",
       "      <td>-0.323464</td>\n",
       "      <td>-0.801053</td>\n",
       "      <td>-0.985459</td>\n",
       "      <td>0.036734</td>\n",
       "    </tr>\n",
       "    <tr>\n",
       "      <th>3</th>\n",
       "      <td>-2.042122</td>\n",
       "      <td>-0.668292</td>\n",
       "      <td>-3.000000</td>\n",
       "      <td>-3.000000</td>\n",
       "      <td>0.427195</td>\n",
       "      <td>-0.017215</td>\n",
       "      <td>-0.013028</td>\n",
       "      <td>0.001618</td>\n",
       "      <td>0.007306</td>\n",
       "      <td>-0.009109</td>\n",
       "      <td>...</td>\n",
       "      <td>-0.594802</td>\n",
       "      <td>-0.705275</td>\n",
       "      <td>-0.254002</td>\n",
       "      <td>-1.218967</td>\n",
       "      <td>-1.138303</td>\n",
       "      <td>-1.383703</td>\n",
       "      <td>0.116169</td>\n",
       "      <td>-0.923418</td>\n",
       "      <td>-0.985459</td>\n",
       "      <td>-0.063250</td>\n",
       "    </tr>\n",
       "    <tr>\n",
       "      <th>4</th>\n",
       "      <td>0.767644</td>\n",
       "      <td>-0.668292</td>\n",
       "      <td>-0.598654</td>\n",
       "      <td>-0.082115</td>\n",
       "      <td>0.389742</td>\n",
       "      <td>-0.016840</td>\n",
       "      <td>-0.012851</td>\n",
       "      <td>0.001992</td>\n",
       "      <td>0.009878</td>\n",
       "      <td>-0.008769</td>\n",
       "      <td>...</td>\n",
       "      <td>-3.000000</td>\n",
       "      <td>-3.000000</td>\n",
       "      <td>-3.000000</td>\n",
       "      <td>-3.000000</td>\n",
       "      <td>-3.000000</td>\n",
       "      <td>0.722689</td>\n",
       "      <td>-0.323464</td>\n",
       "      <td>-1.535243</td>\n",
       "      <td>-0.461624</td>\n",
       "      <td>0.158454</td>\n",
       "    </tr>\n",
       "  </tbody>\n",
       "</table>\n",
       "<p>5 rows × 6817 columns</p>\n",
       "</div>"
      ],
      "text/plain": [
       "    loan_dt       tag      f135       f60       f36      f164        f8  \\\n",
       "0  0.784673 -0.668292  0.055600 -0.082115  0.408484 -0.010295 -0.011229   \n",
       "1  0.861303 -0.668292 -0.711186  0.376802 -3.000000 -3.000000 -3.000000   \n",
       "2  0.818730 -0.668292 -0.729505 -0.082115  0.409014 -0.016913 -0.012936   \n",
       "3 -2.042122 -0.668292 -3.000000 -3.000000  0.427195 -0.017215 -0.013028   \n",
       "4  0.767644 -0.668292 -0.598654 -0.082115  0.389742 -0.016840 -0.012851   \n",
       "\n",
       "         f2      f119      f105    ...        f6699     f6685     f6688  \\\n",
       "0 -0.005350 -0.011457 -0.009340    ...    -0.594802 -0.705275 -0.254002   \n",
       "1 -3.000000 -3.000000 -3.000000    ...    -3.000000 -3.000000 -3.000000   \n",
       "2  0.001919  0.007911 -0.008932    ...    -3.000000 -3.000000 -3.000000   \n",
       "3  0.001618  0.007306 -0.009109    ...    -0.594802 -0.705275 -0.254002   \n",
       "4  0.001992  0.009878 -0.008769    ...    -3.000000 -3.000000 -3.000000   \n",
       "\n",
       "      f6753     f6741      year       mon      mday      wday    queshi  \n",
       "0 -1.218967 -1.138303  0.722689 -0.323464 -1.290513  0.586045 -1.189159  \n",
       "1 -3.000000 -3.000000  0.722689 -0.323464 -0.189227  1.633715  1.288711  \n",
       "2 -3.000000 -3.000000  0.722689 -0.323464 -0.801053 -0.985459  0.036734  \n",
       "3 -1.218967 -1.138303 -1.383703  0.116169 -0.923418 -0.985459 -0.063250  \n",
       "4 -3.000000 -3.000000  0.722689 -0.323464 -1.535243 -0.461624  0.158454  \n",
       "\n",
       "[5 rows x 6817 columns]"
      ]
     },
     "execution_count": 5,
     "metadata": {},
     "output_type": "execute_result"
    }
   ],
   "source": [
    "train_x.head()"
   ]
  },
  {
   "cell_type": "code",
   "execution_count": null,
   "metadata": {},
   "outputs": [],
   "source": []
  },
  {
   "cell_type": "code",
   "execution_count": null,
   "metadata": {},
   "outputs": [],
   "source": []
  },
  {
   "cell_type": "code",
   "execution_count": 6,
   "metadata": {},
   "outputs": [
    {
     "data": {
      "text/plain": [
       "82.56512580987206"
      ]
     },
     "execution_count": 6,
     "metadata": {},
     "output_type": "execute_result"
    }
   ],
   "source": [
    "np.sqrt(train_x.shape[1])"
   ]
  },
  {
   "cell_type": "code",
   "execution_count": 99,
   "metadata": {},
   "outputs": [
    {
     "name": "stdout",
     "output_type": "stream",
     "text": [
      "_________________________________________________________________\n",
      "Layer (type)                 Output Shape              Param #   \n",
      "=================================================================\n",
      "conv1d_42 (Conv1D)           (None, 2272, 2)           8         \n",
      "_________________________________________________________________\n",
      "conv1d_43 (Conv1D)           (None, 757, 2)            14        \n",
      "_________________________________________________________________\n",
      "conv1d_44 (Conv1D)           (None, 252, 2)            14        \n",
      "_________________________________________________________________\n",
      "conv1d_45 (Conv1D)           (None, 84, 2)             14        \n",
      "_________________________________________________________________\n",
      "reshape_layer (Flatten)      (None, 168)               0         \n",
      "_________________________________________________________________\n",
      "dense_47 (Dense)             (None, 30)                5070      \n",
      "_________________________________________________________________\n",
      "dense_48 (Dense)             (None, 30)                930       \n",
      "_________________________________________________________________\n",
      "dropout_28 (Dropout)         (None, 30)                0         \n",
      "_________________________________________________________________\n",
      "dense_49 (Dense)             (None, 30)                930       \n",
      "_________________________________________________________________\n",
      "dropout_29 (Dropout)         (None, 30)                0         \n",
      "_________________________________________________________________\n",
      "dense_50 (Dense)             (None, 30)                930       \n",
      "_________________________________________________________________\n",
      "dropout_30 (Dropout)         (None, 30)                0         \n",
      "_________________________________________________________________\n",
      "dense_51 (Dense)             (None, 1)                 31        \n",
      "_________________________________________________________________\n",
      "activation_10 (Activation)   (None, 1)                 0         \n",
      "=================================================================\n",
      "Total params: 7,941\n",
      "Trainable params: 7,941\n",
      "Non-trainable params: 0\n",
      "_________________________________________________________________\n"
     ]
    }
   ],
   "source": [
    "\n",
    "# 建立顺序型模型\n",
    "model = Sequential()\n",
    "'''\n",
    "模型需要知道输入数据的shape，\n",
    "因此，Sequential的第一层需要接受一个关于输入数据shape的参数，\n",
    "后面的各个层则可以自动推导出中间数据的shape，\n",
    "因此不需要为每个层都指定这个参数\n",
    "''' \n",
    "\n",
    "# 输入层有6813个神经元\n",
    "# 第一个隐层有83个神经元，激活函数为ReLu，Dropout比例为0.2\n",
    "\n",
    "model.add(keras.layers.convolutional.Conv1D(2, 3,strides=3, padding='valid', input_shape=(train_x.shape[1],1),activation='relu'))\n",
    "\n",
    "model.add(keras.layers.convolutional.Conv1D(2, 3,strides=3,padding='valid',activation='relu'))\n",
    "\n",
    "model.add(keras.layers.convolutional.Conv1D(2, 3,strides=3, padding='valid',activation='relu'))\n",
    "\n",
    "model.add(keras.layers.convolutional.Conv1D(2, 3,strides=3, padding='valid',activation='relu'))\n",
    "\n",
    "model.add(keras.layers.core.Flatten(name=\"reshape_layer\"))\n",
    "model.add(Dense(30,activation='relu') )\n",
    "\n",
    "model.add(Dense(30,activation='relu')) #没有input 表示隐层神经元\n",
    "model.add(Dropout(0.3))\n",
    "\n",
    "model.add(Dense(30,activation='relu')) #没有input 表示隐层神经元\n",
    "model.add(Dropout(0.3))\n",
    "\n",
    "model.add(Dense(30,activation='relu')) #没有input 表示隐层神经元\n",
    "model.add(Dropout(0.3))\n",
    "\n",
    "\n",
    "\n",
    "# 输出层有1个神经元，激活函数为sigmoid，得到分类结果\n",
    "model.add(Dense(1))\n",
    "model.add(Activation('sigmoid'))\n",
    "\n",
    "# 输出模型的整体信息\n",
    "# 总共参数数量为784*512+512 + 512*512+512 + 512*10+10 = 669706\n",
    "model.summary()"
   ]
  },
  {
   "cell_type": "code",
   "execution_count": 17,
   "metadata": {},
   "outputs": [
    {
     "data": {
      "text/plain": [
       "[<keras.layers.core.Dense at 0x7fec7b68c0f0>,\n",
       " <keras.layers.core.Activation at 0x7fec7b68c080>,\n",
       " <keras.layers.core.Dropout at 0x7fec7b68c518>,\n",
       " <keras.layers.core.Dense at 0x7fec7b68ca90>,\n",
       " <keras.layers.core.Dropout at 0x7fec7b68ca58>,\n",
       " <keras.layers.core.Dense at 0x7fec7b6a2860>,\n",
       " <keras.layers.core.Dropout at 0x7fec7b6a2780>,\n",
       " <keras.layers.core.Dense at 0x7fec7b65c9b0>,\n",
       " <keras.layers.core.Dropout at 0x7fec7b66f208>,\n",
       " <keras.layers.core.Dense at 0x7fec7b6297b8>,\n",
       " <keras.layers.core.Dropout at 0x7fec7b63c550>,\n",
       " <keras.layers.core.Dense at 0x7fec7b5f5358>,\n",
       " <keras.layers.core.Dropout at 0x7fec7b68c320>,\n",
       " <keras.layers.core.Dense at 0x7fec7b547dd8>,\n",
       " <keras.layers.core.Dropout at 0x7fec7b58f240>,\n",
       " <keras.layers.core.Dense at 0x7fec7b5169b0>,\n",
       " <keras.layers.core.Dropout at 0x7fec7b516f28>,\n",
       " <keras.layers.core.Dense at 0x7fec7b4e2e48>,\n",
       " <keras.layers.core.Activation at 0x7fec7b4e2eb8>]"
      ]
     },
     "execution_count": 17,
     "metadata": {},
     "output_type": "execute_result"
    }
   ],
   "source": [
    "model.layers"
   ]
  },
  {
   "cell_type": "code",
   "execution_count": 14,
   "metadata": {},
   "outputs": [],
   "source": [
    "from keras import backend as K\n",
    "# AUC for a binary classifier\n",
    "def auc(y_true, y_pred):\n",
    "    ptas = tf.stack([binary_PTA(y_true,y_pred,k) for k in np.linspace(0, 1, 1000)],axis=0)\n",
    "    pfas = tf.stack([binary_PFA(y_true,y_pred,k) for k in np.linspace(0, 1, 1000)],axis=0)\n",
    "    pfas = tf.concat([tf.ones((1,)) ,pfas],axis=0)\n",
    "    binSizes = -(pfas[1:]-pfas[:-1])\n",
    "    s = ptas*binSizes\n",
    "    return K.sum(s, axis=0)\n",
    "#-----------------------------------------------------------------------------------------------------------------------------------------------------\n",
    "# PFA, prob false alert for binary classifier\n",
    "def binary_PFA(y_true, y_pred, threshold=K.variable(value=0.5)):\n",
    "    y_pred = K.cast(y_pred >= threshold, 'float32')\n",
    "    # N = total number of negative labels\n",
    "    N = K.sum(1 - y_true)+0.01\n",
    "    # FP = total number of false alerts, alerts from the negative class labels\n",
    "    FP = K.sum(y_pred - y_pred * y_true)\n",
    "    return FP/N\n",
    "#-----------------------------------------------------------------------------------------------------------------------------------------------------\n",
    "# P_TA prob true alerts for binary classifier\n",
    "def binary_PTA(y_true, y_pred, threshold=K.variable(value=0.5)):\n",
    "    y_pred = K.cast(y_pred >= threshold, 'float32')\n",
    "    # P = total number of positive labels\n",
    "    P = K.sum(y_true)+0.01\n",
    "    # TP = total number of correct alerts, alerts from the positive class labels\n",
    "    TP = K.sum(y_pred * y_true)\n",
    "    return TP/P\n"
   ]
  },
  {
   "cell_type": "code",
   "execution_count": 136,
   "metadata": {},
   "outputs": [],
   "source": []
  },
  {
   "cell_type": "code",
   "execution_count": null,
   "metadata": {},
   "outputs": [],
   "source": []
  },
  {
   "cell_type": "code",
   "execution_count": null,
   "metadata": {},
   "outputs": [],
   "source": []
  },
  {
   "cell_type": "code",
   "execution_count": 100,
   "metadata": {},
   "outputs": [],
   "source": [
    "'''\n",
    "配置模型的学习过程\n",
    "compile接收三个参数：\n",
    "1.优化器optimizer：参数可指定为已预定义的优化器名，如rmsprop、adagrad，\n",
    "或一个Optimizer类对象，如此处的RMSprop()\n",
    "2.损失函数loss：参数为模型试图最小化的目标函数，可为预定义的损失函数，\n",
    "如categorical_crossentropy、mse，也可以为一个损失函数\n",
    "3.指标列表：对于分类问题，一般将该列表设置为metrics=['accuracy']\n",
    "'''\n",
    "from keras.optimizers import SGD, Adam\n",
    "model.compile(loss='binary_crossentropy',\n",
    "              optimizer='adam',\n",
    "              metrics=[auc]) "
   ]
  },
  {
   "cell_type": "code",
   "execution_count": null,
   "metadata": {},
   "outputs": [],
   "source": []
  },
  {
   "cell_type": "code",
   "execution_count": 27,
   "metadata": {},
   "outputs": [],
   "source": [
    "train_x= np.expand_dims(train_x, 2)\n",
    "test_x= np.expand_dims(test_x, 2)\n",
    "\n"
   ]
  },
  {
   "cell_type": "code",
   "execution_count": 103,
   "metadata": {
    "scrolled": true
   },
   "outputs": [
    {
     "name": "stderr",
     "output_type": "stream",
     "text": [
      "/usr/local/anaconda3/lib/python3.6/site-packages/ipykernel_launcher.py:19: UserWarning: The `nb_epoch` argument in `fit` has been renamed `epochs`.\n"
     ]
    },
    {
     "name": "stdout",
     "output_type": "stream",
     "text": [
      "Train on 75000 samples, validate on 25000 samples\n",
      "Epoch 1/30\n",
      "75000/75000 [==============================] - 48s 634us/step - loss: 0.2835 - auc: 0.7921 - val_loss: 0.2990 - val_auc: 0.7566\n",
      "Epoch 2/30\n",
      "75000/75000 [==============================] - 47s 620us/step - loss: 0.2827 - auc: 0.7935 - val_loss: 0.2993 - val_auc: 0.7560\n",
      "Epoch 3/30\n",
      "75000/75000 [==============================] - 47s 621us/step - loss: 0.2828 - auc: 0.7939 - val_loss: 0.3000 - val_auc: 0.7559\n",
      "Epoch 4/30\n",
      "75000/75000 [==============================] - 47s 632us/step - loss: 0.2824 - auc: 0.7936 - val_loss: 0.3011 - val_auc: 0.7577\n",
      "Epoch 5/30\n",
      "75000/75000 [==============================] - 47s 633us/step - loss: 0.2822 - auc: 0.7940 - val_loss: 0.3008 - val_auc: 0.7561\n",
      "Epoch 6/30\n",
      "75000/75000 [==============================] - 46s 617us/step - loss: 0.2804 - auc: 0.7978 - val_loss: 0.3006 - val_auc: 0.7566\n",
      "Epoch 7/30\n",
      "75000/75000 [==============================] - 47s 624us/step - loss: 0.2812 - auc: 0.7965 - val_loss: 0.3007 - val_auc: 0.7555\n",
      "Epoch 8/30\n",
      "75000/75000 [==============================] - 46s 616us/step - loss: 0.2804 - auc: 0.7978 - val_loss: 0.3013 - val_auc: 0.7532\n",
      "Epoch 9/30\n",
      "75000/75000 [==============================] - 46s 612us/step - loss: 0.2808 - auc: 0.7988 - val_loss: 0.3027 - val_auc: 0.7529\n",
      "Epoch 10/30\n",
      "75000/75000 [==============================] - 47s 630us/step - loss: 0.2798 - auc: 0.7995 - val_loss: 0.3019 - val_auc: 0.7544\n",
      "Epoch 11/30\n",
      "75000/75000 [==============================] - 48s 634us/step - loss: 0.2790 - auc: 0.8008 - val_loss: 0.3022 - val_auc: 0.7552\n",
      "Epoch 12/30\n",
      "75000/75000 [==============================] - 45s 606us/step - loss: 0.2789 - auc: 0.8006 - val_loss: 0.3028 - val_auc: 0.7544\n",
      "Epoch 13/30\n",
      "75000/75000 [==============================] - 47s 625us/step - loss: 0.2783 - auc: 0.8020 - val_loss: 0.3027 - val_auc: 0.7554\n",
      "Epoch 14/30\n",
      "75000/75000 [==============================] - 47s 626us/step - loss: 0.2773 - auc: 0.8042 - val_loss: 0.3041 - val_auc: 0.7551\n",
      "Epoch 15/30\n",
      "75000/75000 [==============================] - 47s 621us/step - loss: 0.2771 - auc: 0.8051 - val_loss: 0.3025 - val_auc: 0.7541\n",
      "Epoch 16/30\n",
      "75000/75000 [==============================] - 49s 653us/step - loss: 0.2763 - auc: 0.8061 - val_loss: 0.3041 - val_auc: 0.7520\n",
      "Epoch 17/30\n",
      "75000/75000 [==============================] - 46s 608us/step - loss: 0.2757 - auc: 0.8077 - val_loss: 0.3048 - val_auc: 0.7519\n",
      "Epoch 18/30\n",
      "75000/75000 [==============================] - 47s 621us/step - loss: 0.2763 - auc: 0.8068 - val_loss: 0.3038 - val_auc: 0.7522\n",
      "Epoch 19/30\n",
      "75000/75000 [==============================] - 46s 610us/step - loss: 0.2759 - auc: 0.8067 - val_loss: 0.3036 - val_auc: 0.7534\n",
      "Epoch 20/30\n",
      "75000/75000 [==============================] - 45s 594us/step - loss: 0.2753 - auc: 0.8089 - val_loss: 0.3050 - val_auc: 0.7498\n",
      "Epoch 21/30\n",
      "10000/75000 [===>..........................] - ETA: 34s - loss: 0.2791 - auc: 0.8047"
     ]
    },
    {
     "ename": "KeyboardInterrupt",
     "evalue": "",
     "output_type": "error",
     "traceback": [
      "\u001b[0;31m---------------------------------------------------------------------------\u001b[0m",
      "\u001b[0;31mKeyboardInterrupt\u001b[0m                         Traceback (most recent call last)",
      "\u001b[0;32m<ipython-input-103-473988499b39>\u001b[0m in \u001b[0;36m<module>\u001b[0;34m()\u001b[0m\n\u001b[1;32m     17\u001b[0m                     \u001b[0mnb_epoch\u001b[0m \u001b[0;34m=\u001b[0m \u001b[0mnb_epoch\u001b[0m\u001b[0;34m,\u001b[0m\u001b[0;34m\u001b[0m\u001b[0m\n\u001b[1;32m     18\u001b[0m                     \u001b[0mverbose\u001b[0m \u001b[0;34m=\u001b[0m \u001b[0;36m1\u001b[0m\u001b[0;34m,\u001b[0m\u001b[0;34m\u001b[0m\u001b[0m\n\u001b[0;32m---> 19\u001b[0;31m                    validation_data = (test_x, test_y))\n\u001b[0m\u001b[1;32m     20\u001b[0m \u001b[0;34m\u001b[0m\u001b[0m\n\u001b[1;32m     21\u001b[0m \u001b[0;31m# 按batch计算在某些输入数据上模型的误差\u001b[0m\u001b[0;34m\u001b[0m\u001b[0;34m\u001b[0m\u001b[0m\n",
      "\u001b[0;32m/usr/local/anaconda3/lib/python3.6/site-packages/keras/engine/training.py\u001b[0m in \u001b[0;36mfit\u001b[0;34m(self, x, y, batch_size, epochs, verbose, callbacks, validation_split, validation_data, shuffle, class_weight, sample_weight, initial_epoch, steps_per_epoch, validation_steps, **kwargs)\u001b[0m\n\u001b[1;32m   1040\u001b[0m                                         \u001b[0minitial_epoch\u001b[0m\u001b[0;34m=\u001b[0m\u001b[0minitial_epoch\u001b[0m\u001b[0;34m,\u001b[0m\u001b[0;34m\u001b[0m\u001b[0m\n\u001b[1;32m   1041\u001b[0m                                         \u001b[0msteps_per_epoch\u001b[0m\u001b[0;34m=\u001b[0m\u001b[0msteps_per_epoch\u001b[0m\u001b[0;34m,\u001b[0m\u001b[0;34m\u001b[0m\u001b[0m\n\u001b[0;32m-> 1042\u001b[0;31m                                         validation_steps=validation_steps)\n\u001b[0m\u001b[1;32m   1043\u001b[0m \u001b[0;34m\u001b[0m\u001b[0m\n\u001b[1;32m   1044\u001b[0m     def evaluate(self, x=None, y=None,\n",
      "\u001b[0;32m/usr/local/anaconda3/lib/python3.6/site-packages/keras/engine/training_arrays.py\u001b[0m in \u001b[0;36mfit_loop\u001b[0;34m(model, f, ins, out_labels, batch_size, epochs, verbose, callbacks, val_f, val_ins, shuffle, callback_metrics, initial_epoch, steps_per_epoch, validation_steps)\u001b[0m\n\u001b[1;32m    183\u001b[0m                         \u001b[0;31m# Do not slice the training phase flag.\u001b[0m\u001b[0;34m\u001b[0m\u001b[0;34m\u001b[0m\u001b[0m\n\u001b[1;32m    184\u001b[0m                         ins_batch = slice_arrays(\n\u001b[0;32m--> 185\u001b[0;31m                             ins[:-1], batch_ids) + [ins[-1]]\n\u001b[0m\u001b[1;32m    186\u001b[0m                     \u001b[0;32melse\u001b[0m\u001b[0;34m:\u001b[0m\u001b[0;34m\u001b[0m\u001b[0m\n\u001b[1;32m    187\u001b[0m                         \u001b[0mins_batch\u001b[0m \u001b[0;34m=\u001b[0m \u001b[0mslice_arrays\u001b[0m\u001b[0;34m(\u001b[0m\u001b[0mins\u001b[0m\u001b[0;34m,\u001b[0m \u001b[0mbatch_ids\u001b[0m\u001b[0;34m)\u001b[0m\u001b[0;34m\u001b[0m\u001b[0m\n",
      "\u001b[0;32m/usr/local/anaconda3/lib/python3.6/site-packages/keras/utils/generic_utils.py\u001b[0m in \u001b[0;36mslice_arrays\u001b[0;34m(arrays, start, stop)\u001b[0m\n\u001b[1;32m    505\u001b[0m             \u001b[0;32mif\u001b[0m \u001b[0mhasattr\u001b[0m\u001b[0;34m(\u001b[0m\u001b[0mstart\u001b[0m\u001b[0;34m,\u001b[0m \u001b[0;34m'shape'\u001b[0m\u001b[0;34m)\u001b[0m\u001b[0;34m:\u001b[0m\u001b[0;34m\u001b[0m\u001b[0m\n\u001b[1;32m    506\u001b[0m                 \u001b[0mstart\u001b[0m \u001b[0;34m=\u001b[0m \u001b[0mstart\u001b[0m\u001b[0;34m.\u001b[0m\u001b[0mtolist\u001b[0m\u001b[0;34m(\u001b[0m\u001b[0;34m)\u001b[0m\u001b[0;34m\u001b[0m\u001b[0m\n\u001b[0;32m--> 507\u001b[0;31m             \u001b[0;32mreturn\u001b[0m \u001b[0;34m[\u001b[0m\u001b[0;32mNone\u001b[0m \u001b[0;32mif\u001b[0m \u001b[0mx\u001b[0m \u001b[0;32mis\u001b[0m \u001b[0;32mNone\u001b[0m \u001b[0;32melse\u001b[0m \u001b[0mx\u001b[0m\u001b[0;34m[\u001b[0m\u001b[0mstart\u001b[0m\u001b[0;34m]\u001b[0m \u001b[0;32mfor\u001b[0m \u001b[0mx\u001b[0m \u001b[0;32min\u001b[0m \u001b[0marrays\u001b[0m\u001b[0;34m]\u001b[0m\u001b[0;34m\u001b[0m\u001b[0m\n\u001b[0m\u001b[1;32m    508\u001b[0m         \u001b[0;32melse\u001b[0m\u001b[0;34m:\u001b[0m\u001b[0;34m\u001b[0m\u001b[0m\n\u001b[1;32m    509\u001b[0m             \u001b[0;32mreturn\u001b[0m \u001b[0;34m[\u001b[0m\u001b[0;32mNone\u001b[0m \u001b[0;32mif\u001b[0m \u001b[0mx\u001b[0m \u001b[0;32mis\u001b[0m \u001b[0;32mNone\u001b[0m \u001b[0;32melse\u001b[0m \u001b[0mx\u001b[0m\u001b[0;34m[\u001b[0m\u001b[0mstart\u001b[0m\u001b[0;34m:\u001b[0m\u001b[0mstop\u001b[0m\u001b[0;34m]\u001b[0m \u001b[0;32mfor\u001b[0m \u001b[0mx\u001b[0m \u001b[0;32min\u001b[0m \u001b[0marrays\u001b[0m\u001b[0;34m]\u001b[0m\u001b[0;34m\u001b[0m\u001b[0m\n",
      "\u001b[0;32m/usr/local/anaconda3/lib/python3.6/site-packages/keras/utils/generic_utils.py\u001b[0m in \u001b[0;36m<listcomp>\u001b[0;34m(.0)\u001b[0m\n\u001b[1;32m    505\u001b[0m             \u001b[0;32mif\u001b[0m \u001b[0mhasattr\u001b[0m\u001b[0;34m(\u001b[0m\u001b[0mstart\u001b[0m\u001b[0;34m,\u001b[0m \u001b[0;34m'shape'\u001b[0m\u001b[0;34m)\u001b[0m\u001b[0;34m:\u001b[0m\u001b[0;34m\u001b[0m\u001b[0m\n\u001b[1;32m    506\u001b[0m                 \u001b[0mstart\u001b[0m \u001b[0;34m=\u001b[0m \u001b[0mstart\u001b[0m\u001b[0;34m.\u001b[0m\u001b[0mtolist\u001b[0m\u001b[0;34m(\u001b[0m\u001b[0;34m)\u001b[0m\u001b[0;34m\u001b[0m\u001b[0m\n\u001b[0;32m--> 507\u001b[0;31m             \u001b[0;32mreturn\u001b[0m \u001b[0;34m[\u001b[0m\u001b[0;32mNone\u001b[0m \u001b[0;32mif\u001b[0m \u001b[0mx\u001b[0m \u001b[0;32mis\u001b[0m \u001b[0;32mNone\u001b[0m \u001b[0;32melse\u001b[0m \u001b[0mx\u001b[0m\u001b[0;34m[\u001b[0m\u001b[0mstart\u001b[0m\u001b[0;34m]\u001b[0m \u001b[0;32mfor\u001b[0m \u001b[0mx\u001b[0m \u001b[0;32min\u001b[0m \u001b[0marrays\u001b[0m\u001b[0;34m]\u001b[0m\u001b[0;34m\u001b[0m\u001b[0m\n\u001b[0m\u001b[1;32m    508\u001b[0m         \u001b[0;32melse\u001b[0m\u001b[0;34m:\u001b[0m\u001b[0;34m\u001b[0m\u001b[0m\n\u001b[1;32m    509\u001b[0m             \u001b[0;32mreturn\u001b[0m \u001b[0;34m[\u001b[0m\u001b[0;32mNone\u001b[0m \u001b[0;32mif\u001b[0m \u001b[0mx\u001b[0m \u001b[0;32mis\u001b[0m \u001b[0;32mNone\u001b[0m \u001b[0;32melse\u001b[0m \u001b[0mx\u001b[0m\u001b[0;34m[\u001b[0m\u001b[0mstart\u001b[0m\u001b[0;34m:\u001b[0m\u001b[0mstop\u001b[0m\u001b[0;34m]\u001b[0m \u001b[0;32mfor\u001b[0m \u001b[0mx\u001b[0m \u001b[0;32min\u001b[0m \u001b[0marrays\u001b[0m\u001b[0;34m]\u001b[0m\u001b[0;34m\u001b[0m\u001b[0m\n",
      "\u001b[0;31mKeyboardInterrupt\u001b[0m: "
     ]
    }
   ],
   "source": [
    "# 设置batch的大小\n",
    "batch_size = 5000\n",
    "# 设置迭代的次数\n",
    "nb_epoch = 30\n",
    "\n",
    "'''\n",
    "训练模型\n",
    "batch_size：指定梯度下降时每个batch包含的样本数\n",
    "nb_epoch：训练的轮数，nb指number of\n",
    "verbose：日志显示，0为不在标准输出流输出日志信息，1为输出进度条记录，2为epoch输出一行记录\n",
    "validation_data：指定验证集\n",
    "fit函数返回一个History的对象，其History.history属性记录了损失函数和其他指标的数值随epoch变化的情况，\n",
    "如果有验证集的话，也包含了验证集的这些指标变化情况\n",
    "'''\n",
    "history = model.fit(train_x, train_y,\n",
    "                    batch_size = batch_size,\n",
    "                    nb_epoch = nb_epoch,\n",
    "                    verbose = 1,\n",
    "                   validation_data = (test_x, test_y))\n",
    "\n",
    "# 按batch计算在某些输入数据上模型的误差\n",
    "score = model.evaluate(test_x, test_y, verbose=1)\n",
    "# 输出训练好的模型在测试集上的表现\n",
    "print('Test score:', score)"
   ]
  },
  {
   "cell_type": "code",
   "execution_count": 12,
   "metadata": {},
   "outputs": [
    {
     "data": {
      "text/plain": [
       "[0.28847592805862426, 0.7894290420292318]"
      ]
     },
     "execution_count": 12,
     "metadata": {},
     "output_type": "execute_result"
    }
   ],
   "source": [
    "score"
   ]
  },
  {
   "cell_type": "code",
   "execution_count": null,
   "metadata": {},
   "outputs": [],
   "source": []
  },
  {
   "cell_type": "code",
   "execution_count": 55,
   "metadata": {},
   "outputs": [],
   "source": [
    "model.save('keras_all.h5')"
   ]
  },
  {
   "cell_type": "code",
   "execution_count": null,
   "metadata": {},
   "outputs": [],
   "source": []
  },
  {
   "cell_type": "code",
   "execution_count": 80,
   "metadata": {},
   "outputs": [],
   "source": [
    "import time, datetime\n",
    "test_online=pd.read_table(\"valid.txt\")\n",
    "import time, datetime\n",
    "def ymd(d):\n",
    "    a=np.zeros(d.shape[0])\n",
    "    b=np.zeros(d.shape[0])\n",
    "    c=np.zeros(d.shape[0])\n",
    "    e=np.zeros(d.shape[0])\n",
    "    for i in range(d.shape[0]):\n",
    "        timeArray = time.strptime(d.loan_dt[i], \"%Y-%m-%d\")\n",
    "        a[i]=timeArray.tm_year\n",
    "        b[i]=timeArray.tm_mon\n",
    "        c[i]=timeArray.tm_mday\n",
    "        e[i]=timeArray.tm_wday\n",
    "    d['year']=a\n",
    "    d['mon']=b\n",
    "    d['mday']=c\n",
    "    d['wday']=e\n",
    "ymd(test_online)\n",
    "def t(d):\n",
    "    timeStamp=np.zeros(d.shape[0])\n",
    "    for i in range(d.shape[0]):\n",
    "        timeArray = time.strptime(d[i], \"%Y-%m-%d\")\n",
    "        #print(timeArray)     \n",
    "        # 转为时间戳\n",
    "        timeStamp[i] = (int(time.mktime(timeArray))//86400)\n",
    "        #print (timeStamp)  # 1381419600\n",
    "    #print(timeStamp)\n",
    "    return timeStamp-17256.0\n",
    "test_online.loan_dt=t(test_online.loan_dt)\n",
    "def queshi(d):\n",
    "    缺失=np.isnan(d[:]).sum(axis=1)\n",
    "    d['queshi']=round(((缺失-min(缺失))/(max(缺失)-min(缺失)))*10)\n",
    "queshi(test_online)\n",
    "test_online=test_online.drop(['id'],axis=1)\n",
    "\n",
    "test_online['tag']=1\n",
    "\n",
    "column=pd.read_csv('./shuchu/index.csv')\n",
    "\n",
    "index=list(column[\"0\"])\n",
    "index.remove('id')\n",
    "index.remove('label')\n",
    "test_online=test_online[index]\n",
    "\n",
    "test_online=(test_online-mean)/std\n",
    "test_online.fillna(-3,inplace=True)"
   ]
  },
  {
   "cell_type": "code",
   "execution_count": 6,
   "metadata": {},
   "outputs": [],
   "source": [
    "#test_online.drop('tag',axis=1,inplace=True)"
   ]
  },
  {
   "cell_type": "code",
   "execution_count": 81,
   "metadata": {},
   "outputs": [
    {
     "data": {
      "text/plain": [
       "array([[[ 0.74210045],\n",
       "        [ 1.49633265],\n",
       "        [-3.        ],\n",
       "        ...,\n",
       "        [-1.90233884],\n",
       "        [ 1.63371466],\n",
       "        [ 0.43232426]],\n",
       "\n",
       "       [[ 0.89536037],\n",
       "        [-0.66829169],\n",
       "        [-3.        ],\n",
       "        ...,\n",
       "        [ 0.30023344],\n",
       "        [ 0.06221061],\n",
       "        [ 0.4801428 ]],\n",
       "\n",
       "       [[ 0.71655713],\n",
       "        [ 1.49633265],\n",
       "        [-3.        ],\n",
       "        ...,\n",
       "        [ 1.52388471],\n",
       "        [ 0.06221061],\n",
       "        [ 1.63648215]],\n",
       "\n",
       "       ...,\n",
       "\n",
       "       [[ 0.66547049],\n",
       "        [ 1.49633265],\n",
       "        [-3.        ],\n",
       "        ...,\n",
       "        [ 0.78969395],\n",
       "        [ 0.58604529],\n",
       "        [ 0.61200606]],\n",
       "\n",
       "       [[ 0.88684593],\n",
       "        [-0.66829169],\n",
       "        [-0.33695226],\n",
       "        ...,\n",
       "        [ 0.17786832],\n",
       "        [-0.46162408],\n",
       "        [-1.48766277]],\n",
       "\n",
       "       [[ 0.98050478],\n",
       "        [-0.66829169],\n",
       "        [-3.        ],\n",
       "        ...,\n",
       "        [ 1.52388471],\n",
       "        [ 1.63371466],\n",
       "        [-0.33132341]]])"
      ]
     },
     "execution_count": 81,
     "metadata": {},
     "output_type": "execute_result"
    }
   ],
   "source": [
    "test_x"
   ]
  },
  {
   "cell_type": "code",
   "execution_count": 83,
   "metadata": {},
   "outputs": [
    {
     "data": {
      "text/plain": [
       "(20000, 6817)"
      ]
     },
     "execution_count": 83,
     "metadata": {},
     "output_type": "execute_result"
    }
   ],
   "source": [
    "test_online.shape"
   ]
  },
  {
   "cell_type": "code",
   "execution_count": 84,
   "metadata": {},
   "outputs": [],
   "source": [
    "test_online= np.expand_dims(test_online, 2)"
   ]
  },
  {
   "cell_type": "code",
   "execution_count": 85,
   "metadata": {},
   "outputs": [],
   "source": [
    "preds = model.predict(test_online)"
   ]
  },
  {
   "cell_type": "code",
   "execution_count": 92,
   "metadata": {},
   "outputs": [
    {
     "data": {
      "text/plain": [
       "array([0.6026944], dtype=float32)"
      ]
     },
     "execution_count": 92,
     "metadata": {},
     "output_type": "execute_result"
    }
   ],
   "source": [
    "max(preds)"
   ]
  },
  {
   "cell_type": "code",
   "execution_count": 89,
   "metadata": {},
   "outputs": [],
   "source": [
    "v_id=pd.read_table(\"valid_id.txt\")\n",
    "f=pd.DataFrame(columns=[\"id\",\"prob\"])\n",
    "f.prob=list(preds.T[0])\n",
    "f.id=v_id\n",
    "#print(f)\n",
    "f.to_csv(\"result_keras_rawdata_tag.csv\",encoding=\"utf-8\")"
   ]
  },
  {
   "cell_type": "code",
   "execution_count": 94,
   "metadata": {},
   "outputs": [
    {
     "data": {
      "text/plain": [
       "(20000, 2)"
      ]
     },
     "execution_count": 94,
     "metadata": {},
     "output_type": "execute_result"
    }
   ],
   "source": []
  },
  {
   "cell_type": "markdown",
   "metadata": {},
   "source": [
    "# 迁移"
   ]
  },
  {
   "cell_type": "code",
   "execution_count": 5,
   "metadata": {},
   "outputs": [],
   "source": [
    "train_x=sparse.load_npz('train_x_sparse.npz')\n",
    "train_y=pd.read_csv(\"train_y.csv\",header=None)\n",
    "train_y=train_y[1]\n",
    "\n",
    "column=pd.read_csv('./shuchu/index.csv')\n",
    "index=list(column[\"0\"])\n",
    "index.remove('id')\n",
    "index.remove('label')\n",
    "train_x=pd.DataFrame(train_x.toarray(),columns=index)\n",
    "\n",
    "\n",
    "test_x=sparse.load_npz('test_x_sparse.npz')\n",
    "test_y=pd.read_csv(\"test_y.csv\",header=None)\n",
    "test_y=test_y[1]\n",
    "\n",
    "test_x=pd.DataFrame(test_x.toarray(),columns=index)\n",
    "\n",
    "\n",
    "mean=train_x.mean(skipna=True,axis=0)\n",
    "std=train_x.std(skipna=True,axis=0)\n",
    "\n",
    "train_x=(train_x-mean)/std\n",
    "\n",
    "test_x=(test_x-mean)/std\n",
    "train_x.fillna(-1,inplace=True)\n",
    "test_x.fillna(-1,inplace=True)"
   ]
  },
  {
   "cell_type": "code",
   "execution_count": null,
   "metadata": {},
   "outputs": [],
   "source": []
  },
  {
   "cell_type": "code",
   "execution_count": 9,
   "metadata": {},
   "outputs": [],
   "source": [
    "data_tag=pd.read_csv('./shuchu/data_tag.csv')"
   ]
  },
  {
   "cell_type": "code",
   "execution_count": 10,
   "metadata": {},
   "outputs": [],
   "source": [
    "from sklearn.cross_validation import train_test_split\n",
    "train_tag,test_tag = train_test_split(data_tag.tag, test_size = 0.25,random_state=36)\n",
    "train_x_tag_0=train_x.iloc[train_x.index[train_tag==0],:]\n",
    "train_y_tag_0=train_y[train_y.index[train_tag==0]]\n",
    "train_x_tag_1=train_x.iloc[train_x.index[train_tag==1],:]\n",
    "train_y_tag_1=train_y[train_y.index[train_tag==1]]\n",
    "test_x_tag_0=test_x.iloc[test_x.index[test_tag==0],:]\n",
    "test_y_tag_0=test_y[test_y.index[test_tag==0]]\n",
    "test_x_tag_1=test_x.iloc[test_x.index[test_tag==1],:]\n",
    "test_y_tag_1=test_y[test_y.index[test_tag==1]]\n",
    "del train_x\n",
    "del test_x"
   ]
  },
  {
   "cell_type": "code",
   "execution_count": 24,
   "metadata": {},
   "outputs": [],
   "source": [
    "#from keras.models import load_model  \n",
    "#model = load_model('keras_all.h5',custom_objects={'auc':auc})"
   ]
  },
  {
   "cell_type": "code",
   "execution_count": 8,
   "metadata": {},
   "outputs": [
    {
     "data": {
      "text/plain": [
       "[<keras.layers.core.Dense at 0x7f6b7f8f8d68>,\n",
       " <keras.layers.core.Activation at 0x7f6b7f8c6668>,\n",
       " <keras.layers.core.Dropout at 0x7f6b7f8c6be0>,\n",
       " <keras.layers.core.Dense at 0x7f6b7f8c6f60>,\n",
       " <keras.layers.core.Dropout at 0x7f6b7f8c6e10>,\n",
       " <keras.layers.core.Dense at 0x7f6b7f822f60>,\n",
       " <keras.layers.core.Dropout at 0x7f6b7f847320>,\n",
       " <keras.layers.core.Dense at 0x7f6b60f9b4e0>,\n",
       " <keras.layers.core.Dropout at 0x7f6b60f33240>,\n",
       " <keras.layers.core.Dense at 0x7f6b60f04438>,\n",
       " <keras.layers.core.Dropout at 0x7f6b60eebf60>,\n",
       " <keras.layers.core.Dense at 0x7f6b60ed0c50>,\n",
       " <keras.layers.core.Dropout at 0x7f6b60eb8b38>,\n",
       " <keras.layers.core.Dense at 0x7f6b60e879b0>,\n",
       " <keras.layers.core.Dropout at 0x7f6b60e40c50>,\n",
       " <keras.layers.core.Dense at 0x7f6b60e55860>,\n",
       " <keras.layers.core.Dropout at 0x7f6b603e7b00>,\n",
       " <keras.layers.core.Dense at 0x7f6b603fb710>,\n",
       " <keras.layers.core.Activation at 0x7f6b60398e80>]"
      ]
     },
     "execution_count": 8,
     "metadata": {},
     "output_type": "execute_result"
    }
   ],
   "source": [
    "model.layers"
   ]
  },
  {
   "cell_type": "code",
   "execution_count": null,
   "metadata": {},
   "outputs": [],
   "source": [
    "#for layer in model.layers[:3]:\n",
    "#    layer.trainable = False"
   ]
  },
  {
   "cell_type": "code",
   "execution_count": 92,
   "metadata": {},
   "outputs": [
    {
     "name": "stderr",
     "output_type": "stream",
     "text": [
      "/usr/local/anaconda3/lib/python3.6/site-packages/ipykernel_launcher.py:11: UserWarning: Update your `Dense` call to the Keras 2 API: `Dense(600, input_shape=(6812,), kernel_initializer=\"uniform\")`\n",
      "  # This is added back by InteractiveShellApp.init_path()\n",
      "/usr/local/anaconda3/lib/python3.6/site-packages/ipykernel_launcher.py:16: UserWarning: Update your `Dense` call to the Keras 2 API: `Dense(300, activation=\"relu\", kernel_initializer=\"uniform\")`\n",
      "  app.launch_new_instance()\n",
      "/usr/local/anaconda3/lib/python3.6/site-packages/ipykernel_launcher.py:21: UserWarning: Update your `Dense` call to the Keras 2 API: `Dense(83, activation=\"relu\", kernel_initializer=\"uniform\")`\n"
     ]
    },
    {
     "name": "stdout",
     "output_type": "stream",
     "text": [
      "_________________________________________________________________\n",
      "Layer (type)                 Output Shape              Param #   \n",
      "=================================================================\n",
      "dense_100 (Dense)            (None, 600)               4087800   \n",
      "_________________________________________________________________\n",
      "activation_29 (Activation)   (None, 600)               0         \n",
      "_________________________________________________________________\n",
      "dropout_80 (Dropout)         (None, 600)               0         \n",
      "_________________________________________________________________\n",
      "dense_101 (Dense)            (None, 300)               180300    \n",
      "_________________________________________________________________\n",
      "dropout_81 (Dropout)         (None, 300)               0         \n",
      "_________________________________________________________________\n",
      "dense_102 (Dense)            (None, 83)                24983     \n",
      "_________________________________________________________________\n",
      "dropout_82 (Dropout)         (None, 83)                0         \n",
      "_________________________________________________________________\n",
      "dense_103 (Dense)            (None, 83)                6972      \n",
      "_________________________________________________________________\n",
      "dropout_83 (Dropout)         (None, 83)                0         \n",
      "_________________________________________________________________\n",
      "dense_104 (Dense)            (None, 83)                6972      \n",
      "_________________________________________________________________\n",
      "dropout_84 (Dropout)         (None, 83)                0         \n",
      "_________________________________________________________________\n",
      "dense_105 (Dense)            (None, 83)                6972      \n",
      "_________________________________________________________________\n",
      "dropout_85 (Dropout)         (None, 83)                0         \n",
      "_________________________________________________________________\n",
      "dense_106 (Dense)            (None, 1)                 84        \n",
      "_________________________________________________________________\n",
      "activation_30 (Activation)   (None, 1)                 0         \n",
      "=================================================================\n",
      "Total params: 4,314,083\n",
      "Trainable params: 4,314,083\n",
      "Non-trainable params: 0\n",
      "_________________________________________________________________\n"
     ]
    },
    {
     "name": "stderr",
     "output_type": "stream",
     "text": [
      "/usr/local/anaconda3/lib/python3.6/site-packages/ipykernel_launcher.py:25: UserWarning: Update your `Dense` call to the Keras 2 API: `Dense(83, activation=\"relu\", kernel_initializer=\"uniform\")`\n",
      "/usr/local/anaconda3/lib/python3.6/site-packages/ipykernel_launcher.py:29: UserWarning: Update your `Dense` call to the Keras 2 API: `Dense(83, activation=\"relu\", kernel_initializer=\"uniform\")`\n",
      "/usr/local/anaconda3/lib/python3.6/site-packages/ipykernel_launcher.py:32: UserWarning: Update your `Dense` call to the Keras 2 API: `Dense(83, activation=\"relu\", kernel_initializer=\"uniform\")`\n"
     ]
    }
   ],
   "source": [
    "model = Sequential()\n",
    "'''\n",
    "模型需要知道输入数据的shape，\n",
    "因此，Sequential的第一层需要接受一个关于输入数据shape的参数，\n",
    "后面的各个层则可以自动推导出中间数据的shape，\n",
    "因此不需要为每个层都指定这个参数\n",
    "''' \n",
    "\n",
    "# 输入层有6813个神经元\n",
    "# 第一个隐层有83个神经元，激活函数为ReLu，Dropout比例为0.2\n",
    "model.add(Dense(600, input_shape=(train_x_tag_0.shape[1],),init='uniform'))\n",
    "model.add(Activation('relu'))\n",
    "model.add(Dropout(0.2))\n",
    "\n",
    "\n",
    "model.add(Dense(300,activation='relu',init='uniform')) #没有input 表示隐层神经元\n",
    "model.add(Dropout(0.3))\n",
    "\n",
    "\n",
    "\n",
    "model.add(Dense(83,activation='relu',init='uniform')) #没有input 表示隐层神经元\n",
    "model.add(Dropout(0.3))\n",
    "\n",
    "\n",
    "model.add(Dense(83,activation='relu',init='uniform')) #没有input 表示隐层神经元\n",
    "model.add(Dropout(0.3))\n",
    "\n",
    "\n",
    "model.add(Dense(83,activation='relu',init='uniform')) #没有input 表示隐层神经元\n",
    "model.add(Dropout(0.3))\n",
    "\n",
    "model.add(Dense(83,activation='relu',init='uniform')) #没有input 表示隐层神经元\n",
    "model.add(Dropout(0.3))\n",
    "\n",
    "# 输出层有1个神经元，激活函数为sigmoid，得到分类结果\n",
    "model.add(Dense(1))\n",
    "model.add(Activation('sigmoid'))\n",
    "\n",
    "# 输出模型的整体信息\n",
    "# 总共参数数量为784*512+512 + 512*512+512 + 512*10+10 = 669706\n",
    "model.summary()"
   ]
  },
  {
   "cell_type": "code",
   "execution_count": 93,
   "metadata": {},
   "outputs": [],
   "source": [
    "np.random.seed(2018)\n",
    "model.compile(loss='binary_crossentropy',\n",
    "              optimizer='adam',\n",
    "              metrics=[auc]) "
   ]
  },
  {
   "cell_type": "code",
   "execution_count": 94,
   "metadata": {},
   "outputs": [
    {
     "name": "stderr",
     "output_type": "stream",
     "text": [
      "/usr/local/anaconda3/lib/python3.6/site-packages/ipykernel_launcher.py:19: UserWarning: The `nb_epoch` argument in `fit` has been renamed `epochs`.\n"
     ]
    },
    {
     "name": "stdout",
     "output_type": "stream",
     "text": [
      "Train on 51845 samples, validate on 17320 samples\n",
      "Epoch 1/8\n",
      "51845/51845 [==============================] - 84s 2ms/step - loss: 0.5025 - auc: 0.5059 - val_loss: nan - val_auc: 0.6704\n",
      "Epoch 2/8\n",
      "51845/51845 [==============================] - 14s 267us/step - loss: 0.3774 - auc: 0.6677 - val_loss: nan - val_auc: 0.7278\n",
      "Epoch 3/8\n",
      "51845/51845 [==============================] - 13s 254us/step - loss: 0.3516 - auc: 0.7282 - val_loss: nan - val_auc: 0.7541\n",
      "Epoch 4/8\n",
      "51845/51845 [==============================] - 13s 257us/step - loss: 0.3361 - auc: 0.7586 - val_loss: nan - val_auc: 0.7711\n",
      "Epoch 5/8\n",
      "51845/51845 [==============================] - 13s 251us/step - loss: 0.3237 - auc: 0.7845 - val_loss: nan - val_auc: 0.7828\n",
      "Epoch 6/8\n",
      "51845/51845 [==============================] - 13s 249us/step - loss: 0.3133 - auc: 0.8069 - val_loss: nan - val_auc: 0.7944\n",
      "Epoch 7/8\n",
      "51845/51845 [==============================] - 14s 264us/step - loss: 0.3007 - auc: 0.8294 - val_loss: nan - val_auc: 0.8015\n",
      "Epoch 8/8\n",
      "51845/51845 [==============================] - 13s 249us/step - loss: 0.2913 - auc: 0.8476 - val_loss: nan - val_auc: 0.8033\n",
      "17320/17320 [==============================] - 13s 738us/step\n",
      "Test score: [nan, 0.7894310384094027]\n"
     ]
    }
   ],
   "source": [
    "# 设置batch的大小\n",
    "batch_size = 5000\n",
    "# 设置迭代的次数\n",
    "nb_epoch = 8\n",
    "\n",
    "'''\n",
    "训练模型\n",
    "batch_size：指定梯度下降时每个batch包含的样本数\n",
    "nb_epoch：训练的轮数，nb指number of\n",
    "verbose：日志显示，0为不在标准输出流输出日志信息，1为输出进度条记录，2为epoch输出一行记录\n",
    "validation_data：指定验证集\n",
    "fit函数返回一个History的对象，其History.history属性记录了损失函数和其他指标的数值随epoch变化的情况，\n",
    "如果有验证集的话，也包含了验证集的这些指标变化情况\n",
    "'''\n",
    "history = model.fit(train_x_tag_0, train_y_tag_0,\n",
    "                    batch_size = batch_size,\n",
    "                    nb_epoch = nb_epoch,\n",
    "                    verbose = 1,\n",
    "                    validation_data = (test_x_tag_0, test_y_tag_0))\n",
    "\n",
    "# 按batch计算在某些输入数据上模型的误差\n",
    "score = model.evaluate(test_x_tag_0, test_y_tag_0, verbose=1)\n",
    "# 输出训练好的模型在测试集上的表现\n",
    "print('Test score:', score)"
   ]
  },
  {
   "cell_type": "code",
   "execution_count": 32,
   "metadata": {},
   "outputs": [],
   "source": [
    "model.save('keras_tag_0.h5')"
   ]
  },
  {
   "cell_type": "code",
   "execution_count": null,
   "metadata": {},
   "outputs": [],
   "source": []
  },
  {
   "cell_type": "code",
   "execution_count": 50,
   "metadata": {},
   "outputs": [],
   "source": [
    "preds = model.predict(test_online)\n",
    "v_id=pd.read_table(\"valid_id.txt\")\n",
    "f=pd.DataFrame(columns=[\"id\",\"prob\"])\n",
    "f.prob=list(preds.T[0])\n",
    "f.id=v_id\n",
    "#print(f)\n",
    "f.to_csv(\"result_keras_rawdata_tag_0.csv\",encoding=\"utf-8\")"
   ]
  },
  {
   "cell_type": "code",
   "execution_count": 12,
   "metadata": {},
   "outputs": [
    {
     "data": {
      "text/plain": [
       "(51845, 6813)"
      ]
     },
     "execution_count": 12,
     "metadata": {},
     "output_type": "execute_result"
    }
   ],
   "source": [
    "train_x_tag_0.shape"
   ]
  },
  {
   "cell_type": "code",
   "execution_count": 78,
   "metadata": {},
   "outputs": [],
   "source": [
    "from keras.models import load_model  \n",
    "model = load_model('keras_tag_0.h5',custom_objects={'auc':auc})"
   ]
  },
  {
   "cell_type": "code",
   "execution_count": 53,
   "metadata": {},
   "outputs": [
    {
     "data": {
      "text/plain": [
       "[<keras.layers.core.Dense at 0x7f7d05bb5588>,\n",
       " <keras.layers.core.Activation at 0x7f7d0569db00>,\n",
       " <keras.layers.core.Dropout at 0x7f7d0569dc88>,\n",
       " <keras.layers.core.Dense at 0x7f7d0569dcf8>,\n",
       " <keras.layers.core.Dropout at 0x7f7d0563beb8>,\n",
       " <keras.layers.core.Dense at 0x7f7d0563bf98>,\n",
       " <keras.layers.core.Dropout at 0x7f7d0569dcc0>,\n",
       " <keras.layers.core.Dense at 0x7f7d045d2f28>,\n",
       " <keras.layers.core.Dropout at 0x7f7d05719c88>,\n",
       " <keras.layers.core.Dense at 0x7f7d0458bba8>,\n",
       " <keras.layers.core.Dropout at 0x7f7d056c2e48>,\n",
       " <keras.layers.core.Dense at 0x7f7d04543b70>,\n",
       " <keras.layers.core.Activation at 0x7f7d04543668>]"
      ]
     },
     "execution_count": 53,
     "metadata": {},
     "output_type": "execute_result"
    }
   ],
   "source": [
    "model.layers"
   ]
  },
  {
   "cell_type": "code",
   "execution_count": 59,
   "metadata": {},
   "outputs": [
    {
     "name": "stdout",
     "output_type": "stream",
     "text": [
      "_________________________________________________________________\n",
      "Layer (type)                 Output Shape              Param #   \n",
      "=================================================================\n",
      "dense_34 (Dense)             (None, 200)               1362600   \n",
      "_________________________________________________________________\n",
      "activation_9 (Activation)    (None, 200)               0         \n",
      "_________________________________________________________________\n",
      "dense_35 (Dense)             (None, 200)               40200     \n",
      "_________________________________________________________________\n",
      "dropout_29 (Dropout)         (None, 200)               0         \n",
      "_________________________________________________________________\n",
      "dense_36 (Dense)             (None, 200)               40200     \n",
      "_________________________________________________________________\n",
      "dropout_30 (Dropout)         (None, 200)               0         \n",
      "_________________________________________________________________\n",
      "dense_37 (Dense)             (None, 100)               20100     \n",
      "_________________________________________________________________\n",
      "dropout_31 (Dropout)         (None, 100)               0         \n",
      "_________________________________________________________________\n",
      "dense_38 (Dense)             (None, 100)               10100     \n",
      "_________________________________________________________________\n",
      "dropout_32 (Dropout)         (None, 100)               0         \n",
      "_________________________________________________________________\n",
      "dense_39 (Dense)             (None, 100)               10100     \n",
      "_________________________________________________________________\n",
      "dropout_33 (Dropout)         (None, 100)               0         \n",
      "_________________________________________________________________\n",
      "dense_40 (Dense)             (None, 100)               10100     \n",
      "_________________________________________________________________\n",
      "dropout_34 (Dropout)         (None, 100)               0         \n",
      "_________________________________________________________________\n",
      "dense_41 (Dense)             (None, 100)               10100     \n",
      "_________________________________________________________________\n",
      "dropout_35 (Dropout)         (None, 100)               0         \n",
      "_________________________________________________________________\n",
      "dense_42 (Dense)             (None, 1)                 101       \n",
      "_________________________________________________________________\n",
      "activation_10 (Activation)   (None, 1)                 0         \n",
      "=================================================================\n",
      "Total params: 1,563,901\n",
      "Trainable params: 100,801\n",
      "Non-trainable params: 1,463,100\n",
      "_________________________________________________________________\n"
     ]
    },
    {
     "name": "stderr",
     "output_type": "stream",
     "text": [
      "/usr/local/anaconda3/lib/python3.6/site-packages/keras/engine/training.py:478: UserWarning: Discrepancy between trainable weights and collected trainable weights, did you set `model.trainable` without calling `model.compile` after ?\n",
      "  'Discrepancy between trainable weights and collected trainable'\n"
     ]
    }
   ],
   "source": [
    "for layer in model.layers[:8]:\n",
    "    layer.trainable = False\n",
    "for layer in model.layers[8:]:\n",
    "    layer.trainable = True\n",
    "#model.layers[-1]=True\n",
    "model.summary()"
   ]
  },
  {
   "cell_type": "code",
   "execution_count": null,
   "metadata": {},
   "outputs": [],
   "source": [
    "from keras.optimizers import SGD, Adam\n",
    "\n",
    "adam=Adam(lr=0.1)\n",
    "model.compile(loss='binary_crossentropy',\n",
    "              optimizer=adam,\n",
    "              metrics=[auc]) "
   ]
  },
  {
   "cell_type": "code",
   "execution_count": 60,
   "metadata": {},
   "outputs": [
    {
     "name": "stderr",
     "output_type": "stream",
     "text": [
      "/usr/local/anaconda3/lib/python3.6/site-packages/ipykernel_launcher.py:26: UserWarning: The `nb_epoch` argument in `fit` has been renamed `epochs`.\n"
     ]
    },
    {
     "name": "stdout",
     "output_type": "stream",
     "text": [
      "Train on 23155 samples, validate on 7680 samples\n",
      "Epoch 1/10\n",
      "20000/23155 [========================>.....] - ETA: 6s - loss: 0.9252 - auc: 2.0861e-06 "
     ]
    },
    {
     "ename": "KeyboardInterrupt",
     "evalue": "",
     "output_type": "error",
     "traceback": [
      "\u001b[0;31m---------------------------------------------------------------------------\u001b[0m",
      "\u001b[0;31mKeyboardInterrupt\u001b[0m                         Traceback (most recent call last)",
      "\u001b[0;32m<ipython-input-60-5873e9a401b1>\u001b[0m in \u001b[0;36m<module>\u001b[0;34m()\u001b[0m\n\u001b[1;32m     24\u001b[0m                     \u001b[0mnb_epoch\u001b[0m \u001b[0;34m=\u001b[0m \u001b[0mnb_epoch\u001b[0m\u001b[0;34m,\u001b[0m\u001b[0;34m\u001b[0m\u001b[0m\n\u001b[1;32m     25\u001b[0m                     \u001b[0mverbose\u001b[0m \u001b[0;34m=\u001b[0m \u001b[0;36m1\u001b[0m\u001b[0;34m,\u001b[0m\u001b[0;34m\u001b[0m\u001b[0m\n\u001b[0;32m---> 26\u001b[0;31m                     validation_data = (test_x_tag_1, test_y_tag_1))\n\u001b[0m\u001b[1;32m     27\u001b[0m \u001b[0;34m\u001b[0m\u001b[0m\n\u001b[1;32m     28\u001b[0m \u001b[0;31m# 按batch计算在某些输入数据上模型的误差\u001b[0m\u001b[0;34m\u001b[0m\u001b[0;34m\u001b[0m\u001b[0m\n",
      "\u001b[0;32m/usr/local/anaconda3/lib/python3.6/site-packages/keras/engine/training.py\u001b[0m in \u001b[0;36mfit\u001b[0;34m(self, x, y, batch_size, epochs, verbose, callbacks, validation_split, validation_data, shuffle, class_weight, sample_weight, initial_epoch, steps_per_epoch, validation_steps, **kwargs)\u001b[0m\n\u001b[1;32m   1040\u001b[0m                                         \u001b[0minitial_epoch\u001b[0m\u001b[0;34m=\u001b[0m\u001b[0minitial_epoch\u001b[0m\u001b[0;34m,\u001b[0m\u001b[0;34m\u001b[0m\u001b[0m\n\u001b[1;32m   1041\u001b[0m                                         \u001b[0msteps_per_epoch\u001b[0m\u001b[0;34m=\u001b[0m\u001b[0msteps_per_epoch\u001b[0m\u001b[0;34m,\u001b[0m\u001b[0;34m\u001b[0m\u001b[0m\n\u001b[0;32m-> 1042\u001b[0;31m                                         validation_steps=validation_steps)\n\u001b[0m\u001b[1;32m   1043\u001b[0m \u001b[0;34m\u001b[0m\u001b[0m\n\u001b[1;32m   1044\u001b[0m     def evaluate(self, x=None, y=None,\n",
      "\u001b[0;32m/usr/local/anaconda3/lib/python3.6/site-packages/keras/engine/training_arrays.py\u001b[0m in \u001b[0;36mfit_loop\u001b[0;34m(model, f, ins, out_labels, batch_size, epochs, verbose, callbacks, val_f, val_ins, shuffle, callback_metrics, initial_epoch, steps_per_epoch, validation_steps)\u001b[0m\n\u001b[1;32m    211\u001b[0m                         val_outs = test_loop(model, val_f, val_ins,\n\u001b[1;32m    212\u001b[0m                                              \u001b[0mbatch_size\u001b[0m\u001b[0;34m=\u001b[0m\u001b[0mbatch_size\u001b[0m\u001b[0;34m,\u001b[0m\u001b[0;34m\u001b[0m\u001b[0m\n\u001b[0;32m--> 213\u001b[0;31m                                              verbose=0)\n\u001b[0m\u001b[1;32m    214\u001b[0m                         \u001b[0;32mif\u001b[0m \u001b[0;32mnot\u001b[0m \u001b[0misinstance\u001b[0m\u001b[0;34m(\u001b[0m\u001b[0mval_outs\u001b[0m\u001b[0;34m,\u001b[0m \u001b[0mlist\u001b[0m\u001b[0;34m)\u001b[0m\u001b[0;34m:\u001b[0m\u001b[0;34m\u001b[0m\u001b[0m\n\u001b[1;32m    215\u001b[0m                             \u001b[0mval_outs\u001b[0m \u001b[0;34m=\u001b[0m \u001b[0;34m[\u001b[0m\u001b[0mval_outs\u001b[0m\u001b[0;34m]\u001b[0m\u001b[0;34m\u001b[0m\u001b[0m\n",
      "\u001b[0;32m/usr/local/anaconda3/lib/python3.6/site-packages/keras/engine/training_arrays.py\u001b[0m in \u001b[0;36mtest_loop\u001b[0;34m(model, f, ins, batch_size, verbose, steps)\u001b[0m\n\u001b[1;32m    396\u001b[0m                 \u001b[0mins_batch\u001b[0m\u001b[0;34m[\u001b[0m\u001b[0mi\u001b[0m\u001b[0;34m]\u001b[0m \u001b[0;34m=\u001b[0m \u001b[0mins_batch\u001b[0m\u001b[0;34m[\u001b[0m\u001b[0mi\u001b[0m\u001b[0;34m]\u001b[0m\u001b[0;34m.\u001b[0m\u001b[0mtoarray\u001b[0m\u001b[0;34m(\u001b[0m\u001b[0;34m)\u001b[0m\u001b[0;34m\u001b[0m\u001b[0m\n\u001b[1;32m    397\u001b[0m \u001b[0;34m\u001b[0m\u001b[0m\n\u001b[0;32m--> 398\u001b[0;31m             \u001b[0mbatch_outs\u001b[0m \u001b[0;34m=\u001b[0m \u001b[0mf\u001b[0m\u001b[0;34m(\u001b[0m\u001b[0mins_batch\u001b[0m\u001b[0;34m)\u001b[0m\u001b[0;34m\u001b[0m\u001b[0m\n\u001b[0m\u001b[1;32m    399\u001b[0m             \u001b[0;32mif\u001b[0m \u001b[0misinstance\u001b[0m\u001b[0;34m(\u001b[0m\u001b[0mbatch_outs\u001b[0m\u001b[0;34m,\u001b[0m \u001b[0mlist\u001b[0m\u001b[0;34m)\u001b[0m\u001b[0;34m:\u001b[0m\u001b[0;34m\u001b[0m\u001b[0m\n\u001b[1;32m    400\u001b[0m                 \u001b[0;32mif\u001b[0m \u001b[0mbatch_index\u001b[0m \u001b[0;34m==\u001b[0m \u001b[0;36m0\u001b[0m\u001b[0;34m:\u001b[0m\u001b[0;34m\u001b[0m\u001b[0m\n",
      "\u001b[0;32m/usr/local/anaconda3/lib/python3.6/site-packages/keras/backend/tensorflow_backend.py\u001b[0m in \u001b[0;36m__call__\u001b[0;34m(self, inputs)\u001b[0m\n\u001b[1;32m   2659\u001b[0m                 \u001b[0;32mreturn\u001b[0m \u001b[0mself\u001b[0m\u001b[0;34m.\u001b[0m\u001b[0m_legacy_call\u001b[0m\u001b[0;34m(\u001b[0m\u001b[0minputs\u001b[0m\u001b[0;34m)\u001b[0m\u001b[0;34m\u001b[0m\u001b[0m\n\u001b[1;32m   2660\u001b[0m \u001b[0;34m\u001b[0m\u001b[0m\n\u001b[0;32m-> 2661\u001b[0;31m             \u001b[0;32mreturn\u001b[0m \u001b[0mself\u001b[0m\u001b[0;34m.\u001b[0m\u001b[0m_call\u001b[0m\u001b[0;34m(\u001b[0m\u001b[0minputs\u001b[0m\u001b[0;34m)\u001b[0m\u001b[0;34m\u001b[0m\u001b[0m\n\u001b[0m\u001b[1;32m   2662\u001b[0m         \u001b[0;32melse\u001b[0m\u001b[0;34m:\u001b[0m\u001b[0;34m\u001b[0m\u001b[0m\n\u001b[1;32m   2663\u001b[0m             \u001b[0;32mif\u001b[0m \u001b[0mpy_any\u001b[0m\u001b[0;34m(\u001b[0m\u001b[0mis_tensor\u001b[0m\u001b[0;34m(\u001b[0m\u001b[0mx\u001b[0m\u001b[0;34m)\u001b[0m \u001b[0;32mfor\u001b[0m \u001b[0mx\u001b[0m \u001b[0;32min\u001b[0m \u001b[0minputs\u001b[0m\u001b[0;34m)\u001b[0m\u001b[0;34m:\u001b[0m\u001b[0;34m\u001b[0m\u001b[0m\n",
      "\u001b[0;32m/usr/local/anaconda3/lib/python3.6/site-packages/keras/backend/tensorflow_backend.py\u001b[0m in \u001b[0;36m_call\u001b[0;34m(self, inputs)\u001b[0m\n\u001b[1;32m   2628\u001b[0m                                 \u001b[0mfeed_symbols\u001b[0m\u001b[0;34m,\u001b[0m\u001b[0;34m\u001b[0m\u001b[0m\n\u001b[1;32m   2629\u001b[0m                                 \u001b[0msymbol_vals\u001b[0m\u001b[0;34m,\u001b[0m\u001b[0;34m\u001b[0m\u001b[0m\n\u001b[0;32m-> 2630\u001b[0;31m                                 session)\n\u001b[0m\u001b[1;32m   2631\u001b[0m         \u001b[0mfetched\u001b[0m \u001b[0;34m=\u001b[0m \u001b[0mself\u001b[0m\u001b[0;34m.\u001b[0m\u001b[0m_callable_fn\u001b[0m\u001b[0;34m(\u001b[0m\u001b[0;34m*\u001b[0m\u001b[0marray_vals\u001b[0m\u001b[0;34m)\u001b[0m\u001b[0;34m\u001b[0m\u001b[0m\n\u001b[1;32m   2632\u001b[0m         \u001b[0;32mreturn\u001b[0m \u001b[0mfetched\u001b[0m\u001b[0;34m[\u001b[0m\u001b[0;34m:\u001b[0m\u001b[0mlen\u001b[0m\u001b[0;34m(\u001b[0m\u001b[0mself\u001b[0m\u001b[0;34m.\u001b[0m\u001b[0moutputs\u001b[0m\u001b[0;34m)\u001b[0m\u001b[0;34m]\u001b[0m\u001b[0;34m\u001b[0m\u001b[0m\n",
      "\u001b[0;32m/usr/local/anaconda3/lib/python3.6/site-packages/keras/backend/tensorflow_backend.py\u001b[0m in \u001b[0;36m_make_callable\u001b[0;34m(self, feed_arrays, feed_symbols, symbol_vals, session)\u001b[0m\n\u001b[1;32m   2580\u001b[0m         \u001b[0mcallable_opts\u001b[0m\u001b[0;34m.\u001b[0m\u001b[0mtarget\u001b[0m\u001b[0;34m.\u001b[0m\u001b[0mappend\u001b[0m\u001b[0;34m(\u001b[0m\u001b[0mself\u001b[0m\u001b[0;34m.\u001b[0m\u001b[0mupdates_op\u001b[0m\u001b[0;34m.\u001b[0m\u001b[0mname\u001b[0m\u001b[0;34m)\u001b[0m\u001b[0;34m\u001b[0m\u001b[0m\n\u001b[1;32m   2581\u001b[0m         \u001b[0;31m# Create callable.\u001b[0m\u001b[0;34m\u001b[0m\u001b[0;34m\u001b[0m\u001b[0m\n\u001b[0;32m-> 2582\u001b[0;31m         \u001b[0mcallable_fn\u001b[0m \u001b[0;34m=\u001b[0m \u001b[0msession\u001b[0m\u001b[0;34m.\u001b[0m\u001b[0m_make_callable_from_options\u001b[0m\u001b[0;34m(\u001b[0m\u001b[0mcallable_opts\u001b[0m\u001b[0;34m)\u001b[0m\u001b[0;34m\u001b[0m\u001b[0m\n\u001b[0m\u001b[1;32m   2583\u001b[0m         \u001b[0;31m# Cache parameters corresponding to the generated callable, so that\u001b[0m\u001b[0;34m\u001b[0m\u001b[0;34m\u001b[0m\u001b[0m\n\u001b[1;32m   2584\u001b[0m         \u001b[0;31m# we can detect future mismatches and refresh the callable.\u001b[0m\u001b[0;34m\u001b[0m\u001b[0;34m\u001b[0m\u001b[0m\n",
      "\u001b[0;32m/usr/local/anaconda3/lib/python3.6/site-packages/tensorflow/python/client/session.py\u001b[0m in \u001b[0;36m_make_callable_from_options\u001b[0;34m(self, callable_options)\u001b[0m\n\u001b[1;32m   1478\u001b[0m     \"\"\"\n\u001b[1;32m   1479\u001b[0m     \u001b[0mself\u001b[0m\u001b[0;34m.\u001b[0m\u001b[0m_extend_graph\u001b[0m\u001b[0;34m(\u001b[0m\u001b[0;34m)\u001b[0m\u001b[0;34m\u001b[0m\u001b[0m\n\u001b[0;32m-> 1480\u001b[0;31m     \u001b[0;32mreturn\u001b[0m \u001b[0mBaseSession\u001b[0m\u001b[0;34m.\u001b[0m\u001b[0m_Callable\u001b[0m\u001b[0;34m(\u001b[0m\u001b[0mself\u001b[0m\u001b[0;34m,\u001b[0m \u001b[0mcallable_options\u001b[0m\u001b[0;34m)\u001b[0m\u001b[0;34m\u001b[0m\u001b[0m\n\u001b[0m\u001b[1;32m   1481\u001b[0m \u001b[0;34m\u001b[0m\u001b[0m\n\u001b[1;32m   1482\u001b[0m \u001b[0;34m\u001b[0m\u001b[0m\n",
      "\u001b[0;32m/usr/local/anaconda3/lib/python3.6/site-packages/tensorflow/python/client/session.py\u001b[0m in \u001b[0;36m__init__\u001b[0;34m(self, session, callable_options)\u001b[0m\n\u001b[1;32m   1436\u001b[0m           \u001b[0;32mif\u001b[0m \u001b[0msession\u001b[0m\u001b[0;34m.\u001b[0m\u001b[0m_created_with_new_api\u001b[0m\u001b[0;34m:\u001b[0m\u001b[0;34m\u001b[0m\u001b[0m\n\u001b[1;32m   1437\u001b[0m             self._handle = tf_session.TF_SessionMakeCallable(\n\u001b[0;32m-> 1438\u001b[0;31m                 session._session, options_ptr, status)\n\u001b[0m\u001b[1;32m   1439\u001b[0m           \u001b[0;32melse\u001b[0m\u001b[0;34m:\u001b[0m\u001b[0;34m\u001b[0m\u001b[0m\n\u001b[1;32m   1440\u001b[0m             self._handle = tf_session.TF_DeprecatedSessionMakeCallable(\n",
      "\u001b[0;31mKeyboardInterrupt\u001b[0m: "
     ]
    }
   ],
   "source": [
    "# 设置batch的大小\n",
    "batch_size = 5000\n",
    "# 设置迭代的次数\n",
    "nb_epoch = 10\n",
    "\n",
    "'''\n",
    "训练模型\n",
    "batch_size：指定梯度下降时每个batch包含的样本数\n",
    "nb_epoch：训练的轮数，nb指number of\n",
    "verbose：日志显示，0为不在标准输出流输出日志信息，1为输出进度条记录，2为epoch输出一行记录\n",
    "validation_data：指定验证集\n",
    "fit函数返回一个History的对象，其History.history属性记录了损失函数和其他指标的数值随epoch变化的情况，\n",
    "如果有验证集的话，也包含了验证集的这些指标变化情况\n",
    "'''\n",
    "\n",
    "history = model.fit(train_x_tag_1, train_y_tag_1,\n",
    "                    batch_size = batch_size,\n",
    "                    nb_epoch = nb_epoch,\n",
    "                    verbose = 1,\n",
    "                    validation_data = (test_x_tag_1, test_y_tag_1))\n",
    "\n",
    "# 按batch计算在某些输入数据上模型的误差\n",
    "score = model.evaluate(test_x_tag_1, test_y_tag_1, verbose=1)\n",
    "# 输出训练好的模型在测试集上的表现\n",
    "print('Test score:', score)"
   ]
  },
  {
   "cell_type": "code",
   "execution_count": null,
   "metadata": {},
   "outputs": [],
   "source": [
    "\n"
   ]
  },
  {
   "cell_type": "code",
   "execution_count": 27,
   "metadata": {},
   "outputs": [
    {
     "name": "stdout",
     "output_type": "stream",
     "text": [
      "17320/17320 [==============================] - 16s 902us/step\n",
      "Test score: [nan, 0.689121961566097]\n"
     ]
    }
   ],
   "source": [
    "score = model.evaluate(test_x_tag_0, test_y_tag_0, verbose=1)\n",
    "# 输出训练好的模型在测试集上的表现\n",
    "print('Test score:', score)"
   ]
  },
  {
   "cell_type": "code",
   "execution_count": null,
   "metadata": {},
   "outputs": [],
   "source": []
  },
  {
   "cell_type": "code",
   "execution_count": 40,
   "metadata": {},
   "outputs": [],
   "source": [
    "model.save('keras_tag_1.h5')"
   ]
  },
  {
   "cell_type": "code",
   "execution_count": 84,
   "metadata": {},
   "outputs": [],
   "source": [
    "\n",
    "preds = model.predict(test_online)\n",
    "v_id=pd.read_table(\"valid_id.txt\")\n",
    "f=pd.DataFrame(columns=[\"id\",\"prob\"])\n",
    "f.prob=list(preds.T[0])\n",
    "f.id=v_id\n",
    "#print(f)"
   ]
  },
  {
   "cell_type": "code",
   "execution_count": null,
   "metadata": {},
   "outputs": [],
   "source": []
  },
  {
   "cell_type": "code",
   "execution_count": 48,
   "metadata": {},
   "outputs": [],
   "source": [
    "f.to_csv(\"result_keras_rawdata_tag_1.csv\",encoding=\"utf-8\")"
   ]
  },
  {
   "cell_type": "code",
   "execution_count": null,
   "metadata": {},
   "outputs": [],
   "source": []
  },
  {
   "cell_type": "code",
   "execution_count": 71,
   "metadata": {},
   "outputs": [
    {
     "data": {
      "text/plain": [
       "1242"
      ]
     },
     "execution_count": 71,
     "metadata": {},
     "output_type": "execute_result"
    }
   ],
   "source": [
    "w=pd.read_csv(\"./shuchu/re_tag.csv\")\n",
    "#(w.prob>0.47992188)\n",
    "w.drop('Unnamed: 0',axis=1,inplace=True)\n",
    "sum(w.prob<0.47992188)"
   ]
  },
  {
   "cell_type": "code",
   "execution_count": 66,
   "metadata": {},
   "outputs": [
    {
     "name": "stdout",
     "output_type": "stream",
     "text": [
      "       id      prob\n",
      "0  100001  0.163625\n",
      "1  100002  0.101252\n",
      "2  100003  0.076871\n",
      "3  100004  0.004411\n",
      "4  100005  0.003073\n"
     ]
    }
   ],
   "source": [
    "r1=pd.read_csv(\"result_keras_rawdata_tag_1.csv\")\n",
    "r1.drop('Unnamed: 0',axis=1,inplace=True)\n",
    "r0=pd.read_csv(\"result_keras_rawdata_tag_0.csv\")\n",
    "print(r1.head())"
   ]
  },
  {
   "cell_type": "code",
   "execution_count": 67,
   "metadata": {},
   "outputs": [],
   "source": [
    "r1.iloc[r1.index[w.prob<0.47992188],1]=r0.prob[r1.index[w.prob<0.47992188]]"
   ]
  },
  {
   "cell_type": "code",
   "execution_count": 68,
   "metadata": {},
   "outputs": [
    {
     "data": {
      "text/html": [
       "<div>\n",
       "<style scoped>\n",
       "    .dataframe tbody tr th:only-of-type {\n",
       "        vertical-align: middle;\n",
       "    }\n",
       "\n",
       "    .dataframe tbody tr th {\n",
       "        vertical-align: top;\n",
       "    }\n",
       "\n",
       "    .dataframe thead th {\n",
       "        text-align: right;\n",
       "    }\n",
       "</style>\n",
       "<table border=\"1\" class=\"dataframe\">\n",
       "  <thead>\n",
       "    <tr style=\"text-align: right;\">\n",
       "      <th></th>\n",
       "      <th>id</th>\n",
       "      <th>prob</th>\n",
       "    </tr>\n",
       "  </thead>\n",
       "  <tbody>\n",
       "    <tr>\n",
       "      <th>0</th>\n",
       "      <td>100001</td>\n",
       "      <td>0.163625</td>\n",
       "    </tr>\n",
       "    <tr>\n",
       "      <th>1</th>\n",
       "      <td>100002</td>\n",
       "      <td>0.101252</td>\n",
       "    </tr>\n",
       "    <tr>\n",
       "      <th>2</th>\n",
       "      <td>100003</td>\n",
       "      <td>0.076871</td>\n",
       "    </tr>\n",
       "    <tr>\n",
       "      <th>3</th>\n",
       "      <td>100004</td>\n",
       "      <td>0.008801</td>\n",
       "    </tr>\n",
       "    <tr>\n",
       "      <th>4</th>\n",
       "      <td>100005</td>\n",
       "      <td>0.003073</td>\n",
       "    </tr>\n",
       "  </tbody>\n",
       "</table>\n",
       "</div>"
      ],
      "text/plain": [
       "       id      prob\n",
       "0  100001  0.163625\n",
       "1  100002  0.101252\n",
       "2  100003  0.076871\n",
       "3  100004  0.008801\n",
       "4  100005  0.003073"
      ]
     },
     "execution_count": 68,
     "metadata": {},
     "output_type": "execute_result"
    }
   ],
   "source": [
    "r1.head()"
   ]
  },
  {
   "cell_type": "code",
   "execution_count": 70,
   "metadata": {},
   "outputs": [],
   "source": [
    "r1.to_csv(\"result_keras.csv\",encoding=\"utf-8\")"
   ]
  }
 ],
 "metadata": {
  "kernelspec": {
   "display_name": "Python 3",
   "language": "python",
   "name": "python3"
  },
  "language_info": {
   "codemirror_mode": {
    "name": "ipython",
    "version": 3
   },
   "file_extension": ".py",
   "mimetype": "text/x-python",
   "name": "python",
   "nbconvert_exporter": "python",
   "pygments_lexer": "ipython3",
   "version": "3.6.5"
  }
 },
 "nbformat": 4,
 "nbformat_minor": 2
}
